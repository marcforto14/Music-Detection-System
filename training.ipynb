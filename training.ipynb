{
  "nbformat": 4,
  "nbformat_minor": 0,
  "metadata": {
    "colab": {
      "provenance": [],
      "include_colab_link": false
    },
    "kernelspec": {
      "name": "python3",
      "display_name": "Python 3"
    },
    "language_info": {
      "name": "python"
    },
    "accelerator": "GPU",
    "gpuClass": "standard"
  },
  "cells": [
    {
      "cell_type": "markdown",
      "metadata": {
        "id": "view-in-github",
        "colab_type": "text"
      },
      "source": [
        "<a href=\"https://colab.research.google.com/github/marcforto14/Music-Detection-System/blob/main/training.ipynb\" target=\"_parent\"><img src=\"https://colab.research.google.com/assets/colab-badge.svg\" alt=\"Open In Colab\"/></a>"
      ]
    },
    {
      "cell_type": "markdown",
      "source": [
        "# Training script\n",
        "The following script reads the audio tracks  from the MUSPEAK dataset, it divides each track into frames and obtains the first 13 MFCC coefficients. This is then saved in a .csv file in order to train the SVM model. The trained model is also saved in a .pkl file."
      ],
      "metadata": {
        "id": "VrWCEQmsj4lR"
      }
    },
    {
      "cell_type": "markdown",
      "source": [
        "## Import libraries and mount Drive\n",
        "\n"
      ],
      "metadata": {
        "id": "zZtp8V3xlW3D"
      }
    },
    {
      "cell_type": "code",
      "execution_count": null,
      "metadata": {
        "id": "A0CLVB5uiTZO",
        "colab": {
          "base_uri": "https://localhost:8080/"
        },
        "outputId": "f0130752-a685-4a5b-a3db-365aef77255d"
      },
      "outputs": [
        {
          "output_type": "stream",
          "name": "stdout",
          "text": [
            "Looking in indexes: https://pypi.org/simple, https://us-python.pkg.dev/colab-wheels/public/simple/\n",
            "Requirement already satisfied: essentia in /usr/local/lib/python3.8/dist-packages (2.1b6.dev858)\n",
            "Requirement already satisfied: pyyaml in /usr/local/lib/python3.8/dist-packages (from essentia) (6.0)\n",
            "Requirement already satisfied: six in /usr/local/lib/python3.8/dist-packages (from essentia) (1.15.0)\n",
            "Requirement already satisfied: numpy>=1.8.2 in /usr/local/lib/python3.8/dist-packages (from essentia) (1.22.4)\n"
          ]
        }
      ],
      "source": [
        "!pip install essentia"
      ]
    },
    {
      "cell_type": "code",
      "source": [
        "import pandas as pd\n",
        "import numpy as np\n",
        "import essentia.standard as es\n",
        "import os"
      ],
      "metadata": {
        "id": "BpkYMcuYUYSY"
      },
      "execution_count": null,
      "outputs": []
    },
    {
      "cell_type": "code",
      "source": [
        "from google.colab import drive\n",
        "drive.mount('/content/drive')"
      ],
      "metadata": {
        "colab": {
          "base_uri": "https://localhost:8080/"
        },
        "id": "_ClxGlIzhzfA",
        "outputId": "753e5f6e-c6c6-4fe4-b81f-b272d82284c9"
      },
      "execution_count": null,
      "outputs": [
        {
          "output_type": "stream",
          "name": "stdout",
          "text": [
            "Mounted at /content/drive\n"
          ]
        }
      ]
    },
    {
      "cell_type": "markdown",
      "source": [
        "## Import audio tracks, obtain MFCCs and save to csv\n",
        "As each track corresponds solely to one class, we can save each frame in a dataframe with its corresponding label. This block must firstly be run with the musan/speech files, and then with the musan/music files."
      ],
      "metadata": {
        "id": "NX_INkOB7MM8"
      }
    },
    {
      "cell_type": "code",
      "source": [
        "sr = 44100\n",
        "frame_length =  16384\n",
        "step_size = int(frame_length/2)\n",
        "\n",
        "music_dir = '/content/drive/MyDrive/ColabNotebooks/musan/music/'\n",
        "speech_dir = '/content/drive/MyDrive/ColabNotebooks/musan/speech/'\n",
        "\n",
        "logNorm = es.UnaryOperator(type='log')\n",
        "mfcc = es.MFCC()\n",
        "spectrum = es.Spectrum()\n",
        "w = es.Windowing(type='hann')\n",
        "\n",
        "dfm = pd.DataFrame()\n",
        "for track in os.listdir(speech_dir):\n",
        "  audio_loader = es.MonoLoader(filename=(speech_dir + track), sampleRate=44100)\n",
        "  audio=audio_loader()\n",
        "  for frame in es.FrameGenerator(audio, frameSize = frame_length, hopSize = step_size, startFromZero=True):\n",
        "    #Features extraction\n",
        "    mfcc_bands, mfcc_coeffs = mfcc(spectrum(w(frame)))\n",
        "    #Svae features to dataframe\n",
        "    df2 = pd.DataFrame({\"class\":[\"s\"],\"mfcc1\":[mfcc_coeffs[0]],\"mfcc2\":[mfcc_coeffs[1]],\"mfcc3\":[mfcc_coeffs[2]],\n",
        "                        \"mfcc4\":[mfcc_coeffs[3]],\"mfcc5\":[mfcc_coeffs[4]],\"mfcc6\":[mfcc_coeffs[5]],\n",
        "                        \"mfcc7\":[mfcc_coeffs[6]],\"mfcc8\":[mfcc_coeffs[7]],\"mfcc9\":[mfcc_coeffs[8]],\n",
        "                        \"mfcc10\":[mfcc_coeffs[9]],\"mfcc11\":[mfcc_coeffs[10]],\"mfcc12\":[mfcc_coeffs[11]],\n",
        "                        \"mfcc13\":[mfcc_coeffs[12]]})\n",
        "    dfm = dfm.append(df2, ignore_index=True)"
      ],
      "metadata": {
        "id": "xM16ltNFZs4I"
      },
      "execution_count": null,
      "outputs": []
    },
    {
      "cell_type": "code",
      "source": [
        "dfm.shape[0]"
      ],
      "metadata": {
        "id": "srFtRQuWbmzA",
        "outputId": "2ab3aaff-e6ac-47cb-a486-d3a122a50dab",
        "colab": {
          "base_uri": "https://localhost:8080/"
        }
      },
      "execution_count": null,
      "outputs": [
        {
          "output_type": "execute_result",
          "data": {
            "text/plain": [
              "144685"
            ]
          },
          "metadata": {},
          "execution_count": 13
        }
      ]
    },
    {
      "cell_type": "code",
      "source": [
        "from pathlib import Path\n",
        "dfPath = Path('/content/drive/MyDrive/ColabNotebooks/speech_mfcc_training_data.csv')\n",
        "# dfPath = Path('/content/drive/MyDrive/ColabNotebooks/music_mfcc_training_data.csv')\n",
        "\n",
        "dfm.to_csv(dfPath,index=False)"
      ],
      "metadata": {
        "id": "K5sJvAKcoD7P"
      },
      "execution_count": null,
      "outputs": []
    },
    {
      "cell_type": "markdown",
      "source": [
        "## Load training data and select frames for training"
      ],
      "metadata": {
        "id": "NivHLb26olHR"
      }
    },
    {
      "cell_type": "code",
      "source": [
        "import math\n",
        "\n",
        "train_data_size = 250000\n",
        "dfmi = pd.read_csv('/content/drive/MyDrive/ColabNotebooks/music_mfcc_training_data.csv')\n",
        "dfsi = pd.read_csv('/content/drive/MyDrive/ColabNotebooks/speech_mfcc_training_data.csv')\n",
        "np.random.seed(10)\n",
        "n_rm_music = dfmi.shape[0]-int(train_data_size/2)\n",
        "n_rm_speech = dfsi.shape[0]-int(train_data_size/2)\n",
        "i_rm_music = np.random.choice(dfmi.index, n_rm_music, replace=False)\n",
        "i_rm_speech = np.random.choice(dfsi.index, n_rm_speech, replace=False)\n",
        "dfmi = dfmi.drop(i_rm_music)\n",
        "dfsi = dfsi.drop(i_rm_speech)\n",
        "dfall = dfmi.append(dfsi)\n",
        "df_filtered = dfall[dfall['mfcc1'] >= -980]"
      ],
      "metadata": {
        "id": "UfmQ0DkF6qTo"
      },
      "execution_count": null,
      "outputs": []
    },
    {
      "cell_type": "markdown",
      "source": [
        "## SVM fitting and saving"
      ],
      "metadata": {
        "id": "qO1fIq1_qvfe"
      }
    },
    {
      "cell_type": "code",
      "source": [
        "# Fast model using LinearSVC\n",
        "from sklearn import svm\n",
        "import joblib\n",
        "X = dfall.drop('class',axis=1)\n",
        "X = X.drop('mfcc1',axis=1)\n",
        "y = dfall['class']\n",
        "clf = svm.LinearSVC(dual=False)\n",
        "clf.fit(X,y)\n",
        "joblib.dump(clf,'/content/drive/MyDrive/ColabNotebooks/svm_model_4.pkl',compress=9)"
      ],
      "metadata": {
        "id": "Y8qgZhlcrWBM",
        "colab": {
          "base_uri": "https://localhost:8080/"
        },
        "outputId": "82cd6c84-3ac6-4979-9c93-c9a7eb42a10f"
      },
      "execution_count": null,
      "outputs": [
        {
          "output_type": "execute_result",
          "data": {
            "text/plain": [
              "['/content/drive/MyDrive/ColabNotebooks/svm_model_4.pkl']"
            ]
          },
          "metadata": {},
          "execution_count": 30
        }
      ]
    },
    {
      "cell_type": "code",
      "source": [
        "# Model using normal SVC\n",
        "from sklearn import svm\n",
        "import joblib\n",
        "X = dfall.drop('class',axis=1)\n",
        "X = X.drop('mfcc1',axis=1)\n",
        "y = dfall['class']\n",
        "clf = svm.SVC(kernel='linear')\n",
        "clf.fit(X,y)\n",
        "joblib.dump(clf,'/content/drive/MyDrive/ColabNotebooks/svm_model_3.pkl',compress=9)"
      ],
      "metadata": {
        "id": "Zv_xZHbl-hRM"
      },
      "execution_count": null,
      "outputs": []
    },
    {
      "cell_type": "markdown",
      "source": [
        "## Playing with the model"
      ],
      "metadata": {
        "id": "JBI9BbvXq0in"
      }
    },
    {
      "cell_type": "code",
      "source": [
        "def max_voting_filter(signal,window):\n",
        "    # Convert signal characters to integers\n",
        "    signal = [ord(c) for c in signal]\n",
        "    \n",
        "    # Define the window size\n",
        "    window_size = window\n",
        "    \n",
        "    # Define the maximum number of neighbors to consider for voting\n",
        "    num_neighbors = int((window_size - 1) / 2)\n",
        "    \n",
        "    # Initialize an empty list to hold the filtered signal\n",
        "    filtered_signal = []\n",
        "    \n",
        "    # Loop over the signal\n",
        "    for i in range(len(signal)):\n",
        "        # Find the starting and ending indices for the current window\n",
        "        start_idx = max(0, i - num_neighbors)\n",
        "        end_idx = min(len(signal) - 1, i + num_neighbors)\n",
        "        \n",
        "        # Extract the values in the current window\n",
        "        window_vals = signal[start_idx:end_idx+1]\n",
        "        \n",
        "        # Compute the mode of the window\n",
        "        mode_val = chr(np.argmax(np.bincount(window_vals)))\n",
        "        \n",
        "        # Append the mode value to the filtered signal\n",
        "        filtered_signal.append(mode_val)\n",
        "    \n",
        "    # Convert filtered signal back to string\n",
        "    # filtered_signal = ''.join(filtered_signal)\n",
        "    \n",
        "    return filtered_signal"
      ],
      "metadata": {
        "id": "2SHkxJFoyTWi"
      },
      "execution_count": null,
      "outputs": []
    },
    {
      "cell_type": "code",
      "source": [
        "# Obtain testing data from wav file\n",
        "step_size = int(frame_length/2)\n",
        "audio_loader = es.MonoLoader(filename='/content/drive/MyDrive/ColabNotebooks/muspeak/track006.mp3')\n",
        "audio_test = audio_loader()\n",
        "mfcc = es.MFCC()\n",
        "spectrum = es.Spectrum()\n",
        "w = es.Windowing(type='hann')\n",
        "x_test = pd.DataFrame()\n",
        "for frame in es.FrameGenerator(audio_test, frameSize = frame_length, hopSize = step_size, startFromZero=True):\n",
        "  mfcc_bands, mfcc_coeffs = mfcc(spectrum(w(frame)))\n",
        "  df = pd.DataFrame({\"mfcc2\":[mfcc_coeffs[1]],\"mfcc3\":[mfcc_coeffs[2]],\n",
        "                      \"mfcc4\":[mfcc_coeffs[3]],\"mfcc5\":[mfcc_coeffs[4]],\"mfcc6\":[mfcc_coeffs[5]],\n",
        "                      \"mfcc7\":[mfcc_coeffs[6]],\"mfcc8\":[mfcc_coeffs[7]],\"mfcc9\":[mfcc_coeffs[8]],\n",
        "                      \"mfcc10\":[mfcc_coeffs[9]],\"mfcc11\":[mfcc_coeffs[10]],\"mfcc12\":[mfcc_coeffs[11]],\n",
        "                      \"mfcc13\":[mfcc_coeffs[12]]})\n",
        "  x_test = x_test.append(df, ignore_index=True)"
      ],
      "metadata": {
        "id": "vr7aShbWyojI"
      },
      "execution_count": null,
      "outputs": []
    },
    {
      "cell_type": "code",
      "source": [
        "# Import model and predict\n",
        "model = joblib.load('/content/drive/MyDrive/ColabNotebooks/svm_model_4.pkl')\n",
        "y_test = model.predict(x_test)"
      ],
      "metadata": {
        "id": "VucIAv8uM-MX"
      },
      "execution_count": null,
      "outputs": []
    },
    {
      "cell_type": "code",
      "source": [
        "ground_truth = pd.read_csv('/content/drive/MyDrive/ColabNotebooks/muspeak/labeled_track006.csv')\n",
        "\n",
        "in_array = y_test\n",
        "out_array = max_voting_filter(in_array, 10)\n",
        "\n",
        "pp_signal_ = pd.DataFrame(out_array)\n",
        "pp_signal = pp_signal_[0].to_numpy()"
      ],
      "metadata": {
        "id": "0F8Vyhw_y_2I"
      },
      "execution_count": null,
      "outputs": []
    },
    {
      "cell_type": "code",
      "source": [
        "import matplotlib.pyplot as plt\n",
        "fig, (ax1, ax2) = plt.subplots(2, 1, figsize=(10, 5))\n",
        "ax1.plot(in_array)\n",
        "ax1.set_title('Pre-processed preditcion')\n",
        "ax2.plot(pp_signal)\n",
        "ax2.set_title('Evaluation')\n",
        "ax2.plot(ground_truth[\"class\"].to_numpy())\n",
        "plt.show()"
      ],
      "metadata": {
        "colab": {
          "base_uri": "https://localhost:8080/",
          "height": 336
        },
        "id": "wRuWWowayipn",
        "outputId": "31892647-4ac6-4d26-f8c2-2fceed014ad3"
      },
      "execution_count": null,
      "outputs": [
        {
          "output_type": "display_data",
          "data": {
            "text/plain": [
              "<Figure size 720x360 with 2 Axes>"
            ],
            "image/png": "[encoded data removed]"
          },
          "metadata": {
            "needs_background": "light"
          }
        }
      ]
    },
    {
      "cell_type": "code",
      "source": [
        "from sklearn.metrics import accuracy_score\n",
        "from sklearn.metrics import f1_score\n",
        "df_res = pd.concat([pp_signal_[:20924], ground_truth[\"class\"]], axis=1)\n",
        "df_res = df_res[df_res['class'] != 'silence']\n",
        "df_res = df_res[df_res['class'] != 's&m']\n",
        "# accuracy_score(df_res['class'], df_res[0])\n",
        "f1_score(df_res['class'], df_res[0],average='weighted')\n",
        "# f1_score(ground_truth['class'], pp_signal_[:19083],average='weighted')"
      ],
      "metadata": {
        "colab": {
          "base_uri": "https://localhost:8080/",
          "height": 363
        },
        "id": "UGvKzi5MgVYe",
        "outputId": "b022d87b-870e-4515-bc61-608da2c72eaf"
      },
      "execution_count": null,
      "outputs": [
        {
          "output_type": "error",
          "ename": "TypeError",
          "evalue": "ignored",
          "traceback": [
            "\u001b[0;31m---------------------------------------------------------------------------\u001b[0m",
            "\u001b[0;31mTypeError\u001b[0m                                 Traceback (most recent call last)",
            "\u001b[0;32m<ipython-input-126-36c17d86ffdc>\u001b[0m in \u001b[0;36m<module>\u001b[0;34m\u001b[0m\n\u001b[1;32m      5\u001b[0m \u001b[0mdf_res\u001b[0m \u001b[0;34m=\u001b[0m \u001b[0mdf_res\u001b[0m\u001b[0;34m[\u001b[0m\u001b[0mdf_res\u001b[0m\u001b[0;34m[\u001b[0m\u001b[0;34m'class'\u001b[0m\u001b[0;34m]\u001b[0m \u001b[0;34m!=\u001b[0m \u001b[0;34m's&m'\u001b[0m\u001b[0;34m]\u001b[0m\u001b[0;34m\u001b[0m\u001b[0;34m\u001b[0m\u001b[0m\n\u001b[1;32m      6\u001b[0m \u001b[0;31m# accuracy_score(df_res['class'], df_res[0])\u001b[0m\u001b[0;34m\u001b[0m\u001b[0;34m\u001b[0m\u001b[0;34m\u001b[0m\u001b[0m\n\u001b[0;32m----> 7\u001b[0;31m \u001b[0mf1_score\u001b[0m\u001b[0;34m(\u001b[0m\u001b[0mdf_res\u001b[0m\u001b[0;34m[\u001b[0m\u001b[0;34m'class'\u001b[0m\u001b[0;34m]\u001b[0m\u001b[0;34m,\u001b[0m \u001b[0mdf_res\u001b[0m\u001b[0;34m[\u001b[0m\u001b[0;36m0\u001b[0m\u001b[0;34m]\u001b[0m\u001b[0;34m,\u001b[0m\u001b[0maverage\u001b[0m\u001b[0;34m=\u001b[0m\u001b[0;34m'weighted'\u001b[0m\u001b[0;34m)\u001b[0m\u001b[0;34m\u001b[0m\u001b[0;34m\u001b[0m\u001b[0m\n\u001b[0m\u001b[1;32m      8\u001b[0m \u001b[0;31m# f1_score(ground_truth['class'], pp_signal_[:19083],average='weighted')\u001b[0m\u001b[0;34m\u001b[0m\u001b[0;34m\u001b[0m\u001b[0;34m\u001b[0m\u001b[0m\n",
            "\u001b[0;32m/usr/local/lib/python3.8/dist-packages/sklearn/metrics/_classification.py\u001b[0m in \u001b[0;36mf1_score\u001b[0;34m(y_true, y_pred, labels, pos_label, average, sample_weight, zero_division)\u001b[0m\n\u001b[1;32m   1144\u001b[0m     \u001b[0marray\u001b[0m\u001b[0;34m(\u001b[0m\u001b[0;34m[\u001b[0m\u001b[0;36m0.66666667\u001b[0m\u001b[0;34m,\u001b[0m \u001b[0;36m1.\u001b[0m        \u001b[0;34m,\u001b[0m \u001b[0;36m0.66666667\u001b[0m\u001b[0;34m]\u001b[0m\u001b[0;34m)\u001b[0m\u001b[0;34m\u001b[0m\u001b[0;34m\u001b[0m\u001b[0m\n\u001b[1;32m   1145\u001b[0m     \"\"\"\n\u001b[0;32m-> 1146\u001b[0;31m     return fbeta_score(\n\u001b[0m\u001b[1;32m   1147\u001b[0m         \u001b[0my_true\u001b[0m\u001b[0;34m,\u001b[0m\u001b[0;34m\u001b[0m\u001b[0;34m\u001b[0m\u001b[0m\n\u001b[1;32m   1148\u001b[0m         \u001b[0my_pred\u001b[0m\u001b[0;34m,\u001b[0m\u001b[0;34m\u001b[0m\u001b[0;34m\u001b[0m\u001b[0m\n",
            "\u001b[0;32m/usr/local/lib/python3.8/dist-packages/sklearn/metrics/_classification.py\u001b[0m in \u001b[0;36mfbeta_score\u001b[0;34m(y_true, y_pred, beta, labels, pos_label, average, sample_weight, zero_division)\u001b[0m\n\u001b[1;32m   1285\u001b[0m     \"\"\"\n\u001b[1;32m   1286\u001b[0m \u001b[0;34m\u001b[0m\u001b[0m\n\u001b[0;32m-> 1287\u001b[0;31m     _, _, f, _ = precision_recall_fscore_support(\n\u001b[0m\u001b[1;32m   1288\u001b[0m         \u001b[0my_true\u001b[0m\u001b[0;34m,\u001b[0m\u001b[0;34m\u001b[0m\u001b[0;34m\u001b[0m\u001b[0m\n\u001b[1;32m   1289\u001b[0m         \u001b[0my_pred\u001b[0m\u001b[0;34m,\u001b[0m\u001b[0;34m\u001b[0m\u001b[0;34m\u001b[0m\u001b[0m\n",
            "\u001b[0;32m/usr/local/lib/python3.8/dist-packages/sklearn/metrics/_classification.py\u001b[0m in \u001b[0;36mprecision_recall_fscore_support\u001b[0;34m(y_true, y_pred, beta, labels, pos_label, average, warn_for, sample_weight, zero_division)\u001b[0m\n\u001b[1;32m   1571\u001b[0m     \u001b[0;32mif\u001b[0m \u001b[0mbeta\u001b[0m \u001b[0;34m<\u001b[0m \u001b[0;36m0\u001b[0m\u001b[0;34m:\u001b[0m\u001b[0;34m\u001b[0m\u001b[0;34m\u001b[0m\u001b[0m\n\u001b[1;32m   1572\u001b[0m         \u001b[0;32mraise\u001b[0m \u001b[0mValueError\u001b[0m\u001b[0;34m(\u001b[0m\u001b[0;34m\"beta should be >=0 in the F-beta score\"\u001b[0m\u001b[0;34m)\u001b[0m\u001b[0;34m\u001b[0m\u001b[0;34m\u001b[0m\u001b[0m\n\u001b[0;32m-> 1573\u001b[0;31m     \u001b[0mlabels\u001b[0m \u001b[0;34m=\u001b[0m \u001b[0m_check_set_wise_labels\u001b[0m\u001b[0;34m(\u001b[0m\u001b[0my_true\u001b[0m\u001b[0;34m,\u001b[0m \u001b[0my_pred\u001b[0m\u001b[0;34m,\u001b[0m \u001b[0maverage\u001b[0m\u001b[0;34m,\u001b[0m \u001b[0mlabels\u001b[0m\u001b[0;34m,\u001b[0m \u001b[0mpos_label\u001b[0m\u001b[0;34m)\u001b[0m\u001b[0;34m\u001b[0m\u001b[0;34m\u001b[0m\u001b[0m\n\u001b[0m\u001b[1;32m   1574\u001b[0m \u001b[0;34m\u001b[0m\u001b[0m\n\u001b[1;32m   1575\u001b[0m     \u001b[0;31m# Calculate tp_sum, pred_sum, true_sum ###\u001b[0m\u001b[0;34m\u001b[0m\u001b[0;34m\u001b[0m\u001b[0;34m\u001b[0m\u001b[0m\n",
            "\u001b[0;32m/usr/local/lib/python3.8/dist-packages/sklearn/metrics/_classification.py\u001b[0m in \u001b[0;36m_check_set_wise_labels\u001b[0;34m(y_true, y_pred, average, labels, pos_label)\u001b[0m\n\u001b[1;32m   1372\u001b[0m         \u001b[0;32mraise\u001b[0m \u001b[0mValueError\u001b[0m\u001b[0;34m(\u001b[0m\u001b[0;34m\"average has to be one of \"\u001b[0m \u001b[0;34m+\u001b[0m \u001b[0mstr\u001b[0m\u001b[0;34m(\u001b[0m\u001b[0maverage_options\u001b[0m\u001b[0;34m)\u001b[0m\u001b[0;34m)\u001b[0m\u001b[0;34m\u001b[0m\u001b[0;34m\u001b[0m\u001b[0m\n\u001b[1;32m   1373\u001b[0m \u001b[0;34m\u001b[0m\u001b[0m\n\u001b[0;32m-> 1374\u001b[0;31m     \u001b[0my_type\u001b[0m\u001b[0;34m,\u001b[0m \u001b[0my_true\u001b[0m\u001b[0;34m,\u001b[0m \u001b[0my_pred\u001b[0m \u001b[0;34m=\u001b[0m \u001b[0m_check_targets\u001b[0m\u001b[0;34m(\u001b[0m\u001b[0my_true\u001b[0m\u001b[0;34m,\u001b[0m \u001b[0my_pred\u001b[0m\u001b[0;34m)\u001b[0m\u001b[0;34m\u001b[0m\u001b[0;34m\u001b[0m\u001b[0m\n\u001b[0m\u001b[1;32m   1375\u001b[0m     \u001b[0;31m# Convert to Python primitive type to avoid NumPy type / Python str\u001b[0m\u001b[0;34m\u001b[0m\u001b[0;34m\u001b[0m\u001b[0;34m\u001b[0m\u001b[0m\n\u001b[1;32m   1376\u001b[0m     \u001b[0;31m# comparison. See https://github.com/numpy/numpy/issues/6784\u001b[0m\u001b[0;34m\u001b[0m\u001b[0;34m\u001b[0m\u001b[0;34m\u001b[0m\u001b[0m\n",
            "\u001b[0;32m/usr/local/lib/python3.8/dist-packages/sklearn/metrics/_classification.py\u001b[0m in \u001b[0;36m_check_targets\u001b[0;34m(y_true, y_pred)\u001b[0m\n\u001b[1;32m     86\u001b[0m     \u001b[0mcheck_consistent_length\u001b[0m\u001b[0;34m(\u001b[0m\u001b[0my_true\u001b[0m\u001b[0;34m,\u001b[0m \u001b[0my_pred\u001b[0m\u001b[0;34m)\u001b[0m\u001b[0;34m\u001b[0m\u001b[0;34m\u001b[0m\u001b[0m\n\u001b[1;32m     87\u001b[0m     \u001b[0mtype_true\u001b[0m \u001b[0;34m=\u001b[0m \u001b[0mtype_of_target\u001b[0m\u001b[0;34m(\u001b[0m\u001b[0my_true\u001b[0m\u001b[0;34m,\u001b[0m \u001b[0minput_name\u001b[0m\u001b[0;34m=\u001b[0m\u001b[0;34m\"y_true\"\u001b[0m\u001b[0;34m)\u001b[0m\u001b[0;34m\u001b[0m\u001b[0;34m\u001b[0m\u001b[0m\n\u001b[0;32m---> 88\u001b[0;31m     \u001b[0mtype_pred\u001b[0m \u001b[0;34m=\u001b[0m \u001b[0mtype_of_target\u001b[0m\u001b[0;34m(\u001b[0m\u001b[0my_pred\u001b[0m\u001b[0;34m,\u001b[0m \u001b[0minput_name\u001b[0m\u001b[0;34m=\u001b[0m\u001b[0;34m\"y_pred\"\u001b[0m\u001b[0;34m)\u001b[0m\u001b[0;34m\u001b[0m\u001b[0;34m\u001b[0m\u001b[0m\n\u001b[0m\u001b[1;32m     89\u001b[0m \u001b[0;34m\u001b[0m\u001b[0m\n\u001b[1;32m     90\u001b[0m     \u001b[0my_type\u001b[0m \u001b[0;34m=\u001b[0m \u001b[0;34m{\u001b[0m\u001b[0mtype_true\u001b[0m\u001b[0;34m,\u001b[0m \u001b[0mtype_pred\u001b[0m\u001b[0;34m}\u001b[0m\u001b[0;34m\u001b[0m\u001b[0;34m\u001b[0m\u001b[0m\n",
            "\u001b[0;32m/usr/local/lib/python3.8/dist-packages/sklearn/utils/multiclass.py\u001b[0m in \u001b[0;36mtype_of_target\u001b[0;34m(y, input_name)\u001b[0m\n\u001b[1;32m    361\u001b[0m     \u001b[0;31m# Check multiclass\u001b[0m\u001b[0;34m\u001b[0m\u001b[0;34m\u001b[0m\u001b[0;34m\u001b[0m\u001b[0m\n\u001b[1;32m    362\u001b[0m     \u001b[0mfirst_row\u001b[0m \u001b[0;34m=\u001b[0m \u001b[0my\u001b[0m\u001b[0;34m[\u001b[0m\u001b[0;36m0\u001b[0m\u001b[0;34m]\u001b[0m \u001b[0;32mif\u001b[0m \u001b[0;32mnot\u001b[0m \u001b[0missparse\u001b[0m\u001b[0;34m(\u001b[0m\u001b[0my\u001b[0m\u001b[0;34m)\u001b[0m \u001b[0;32melse\u001b[0m \u001b[0my\u001b[0m\u001b[0;34m.\u001b[0m\u001b[0mgetrow\u001b[0m\u001b[0;34m(\u001b[0m\u001b[0;36m0\u001b[0m\u001b[0;34m)\u001b[0m\u001b[0;34m.\u001b[0m\u001b[0mdata\u001b[0m\u001b[0;34m\u001b[0m\u001b[0;34m\u001b[0m\u001b[0m\n\u001b[0;32m--> 363\u001b[0;31m     \u001b[0;32mif\u001b[0m \u001b[0mxp\u001b[0m\u001b[0;34m.\u001b[0m\u001b[0munique_values\u001b[0m\u001b[0;34m(\u001b[0m\u001b[0my\u001b[0m\u001b[0;34m)\u001b[0m\u001b[0;34m.\u001b[0m\u001b[0mshape\u001b[0m\u001b[0;34m[\u001b[0m\u001b[0;36m0\u001b[0m\u001b[0;34m]\u001b[0m \u001b[0;34m>\u001b[0m \u001b[0;36m2\u001b[0m \u001b[0;32mor\u001b[0m \u001b[0;34m(\u001b[0m\u001b[0my\u001b[0m\u001b[0;34m.\u001b[0m\u001b[0mndim\u001b[0m \u001b[0;34m==\u001b[0m \u001b[0;36m2\u001b[0m \u001b[0;32mand\u001b[0m \u001b[0mlen\u001b[0m\u001b[0;34m(\u001b[0m\u001b[0mfirst_row\u001b[0m\u001b[0;34m)\u001b[0m \u001b[0;34m>\u001b[0m \u001b[0;36m1\u001b[0m\u001b[0;34m)\u001b[0m\u001b[0;34m:\u001b[0m\u001b[0;34m\u001b[0m\u001b[0;34m\u001b[0m\u001b[0m\n\u001b[0m\u001b[1;32m    364\u001b[0m         \u001b[0;31m# [1, 2, 3] or [[1., 2., 3]] or [[1, 2]]\u001b[0m\u001b[0;34m\u001b[0m\u001b[0;34m\u001b[0m\u001b[0;34m\u001b[0m\u001b[0m\n\u001b[1;32m    365\u001b[0m         \u001b[0;32mreturn\u001b[0m \u001b[0;34m\"multiclass\"\u001b[0m \u001b[0;34m+\u001b[0m \u001b[0msuffix\u001b[0m\u001b[0;34m\u001b[0m\u001b[0;34m\u001b[0m\u001b[0m\n",
            "\u001b[0;32m/usr/local/lib/python3.8/dist-packages/sklearn/utils/_array_api.py\u001b[0m in \u001b[0;36munique_values\u001b[0;34m(self, x)\u001b[0m\n\u001b[1;32m     82\u001b[0m \u001b[0;34m\u001b[0m\u001b[0m\n\u001b[1;32m     83\u001b[0m     \u001b[0;32mdef\u001b[0m \u001b[0munique_values\u001b[0m\u001b[0;34m(\u001b[0m\u001b[0mself\u001b[0m\u001b[0;34m,\u001b[0m \u001b[0mx\u001b[0m\u001b[0;34m)\u001b[0m\u001b[0;34m:\u001b[0m\u001b[0;34m\u001b[0m\u001b[0;34m\u001b[0m\u001b[0m\n\u001b[0;32m---> 84\u001b[0;31m         \u001b[0;32mreturn\u001b[0m \u001b[0mnumpy\u001b[0m\u001b[0;34m.\u001b[0m\u001b[0munique\u001b[0m\u001b[0;34m(\u001b[0m\u001b[0mx\u001b[0m\u001b[0;34m)\u001b[0m\u001b[0;34m\u001b[0m\u001b[0;34m\u001b[0m\u001b[0m\n\u001b[0m\u001b[1;32m     85\u001b[0m \u001b[0;34m\u001b[0m\u001b[0m\n\u001b[1;32m     86\u001b[0m     \u001b[0;32mdef\u001b[0m \u001b[0mconcat\u001b[0m\u001b[0;34m(\u001b[0m\u001b[0mself\u001b[0m\u001b[0;34m,\u001b[0m \u001b[0marrays\u001b[0m\u001b[0;34m,\u001b[0m \u001b[0;34m*\u001b[0m\u001b[0;34m,\u001b[0m \u001b[0maxis\u001b[0m\u001b[0;34m=\u001b[0m\u001b[0;32mNone\u001b[0m\u001b[0;34m)\u001b[0m\u001b[0;34m:\u001b[0m\u001b[0;34m\u001b[0m\u001b[0;34m\u001b[0m\u001b[0m\n",
            "\u001b[0;32m/usr/local/lib/python3.8/dist-packages/numpy/core/overrides.py\u001b[0m in \u001b[0;36munique\u001b[0;34m(*args, **kwargs)\u001b[0m\n",
            "\u001b[0;32m/usr/local/lib/python3.8/dist-packages/numpy/lib/arraysetops.py\u001b[0m in \u001b[0;36munique\u001b[0;34m(ar, return_index, return_inverse, return_counts, axis)\u001b[0m\n\u001b[1;32m    270\u001b[0m     \u001b[0mar\u001b[0m \u001b[0;34m=\u001b[0m \u001b[0mnp\u001b[0m\u001b[0;34m.\u001b[0m\u001b[0masanyarray\u001b[0m\u001b[0;34m(\u001b[0m\u001b[0mar\u001b[0m\u001b[0;34m)\u001b[0m\u001b[0;34m\u001b[0m\u001b[0;34m\u001b[0m\u001b[0m\n\u001b[1;32m    271\u001b[0m     \u001b[0;32mif\u001b[0m \u001b[0maxis\u001b[0m \u001b[0;32mis\u001b[0m \u001b[0;32mNone\u001b[0m\u001b[0;34m:\u001b[0m\u001b[0;34m\u001b[0m\u001b[0;34m\u001b[0m\u001b[0m\n\u001b[0;32m--> 272\u001b[0;31m         \u001b[0mret\u001b[0m \u001b[0;34m=\u001b[0m \u001b[0m_unique1d\u001b[0m\u001b[0;34m(\u001b[0m\u001b[0mar\u001b[0m\u001b[0;34m,\u001b[0m \u001b[0mreturn_index\u001b[0m\u001b[0;34m,\u001b[0m \u001b[0mreturn_inverse\u001b[0m\u001b[0;34m,\u001b[0m \u001b[0mreturn_counts\u001b[0m\u001b[0;34m)\u001b[0m\u001b[0;34m\u001b[0m\u001b[0;34m\u001b[0m\u001b[0m\n\u001b[0m\u001b[1;32m    273\u001b[0m         \u001b[0;32mreturn\u001b[0m \u001b[0m_unpack_tuple\u001b[0m\u001b[0;34m(\u001b[0m\u001b[0mret\u001b[0m\u001b[0;34m)\u001b[0m\u001b[0;34m\u001b[0m\u001b[0;34m\u001b[0m\u001b[0m\n\u001b[1;32m    274\u001b[0m \u001b[0;34m\u001b[0m\u001b[0m\n",
            "\u001b[0;32m/usr/local/lib/python3.8/dist-packages/numpy/lib/arraysetops.py\u001b[0m in \u001b[0;36m_unique1d\u001b[0;34m(ar, return_index, return_inverse, return_counts)\u001b[0m\n\u001b[1;32m    331\u001b[0m         \u001b[0maux\u001b[0m \u001b[0;34m=\u001b[0m \u001b[0mar\u001b[0m\u001b[0;34m[\u001b[0m\u001b[0mperm\u001b[0m\u001b[0;34m]\u001b[0m\u001b[0;34m\u001b[0m\u001b[0;34m\u001b[0m\u001b[0m\n\u001b[1;32m    332\u001b[0m     \u001b[0;32melse\u001b[0m\u001b[0;34m:\u001b[0m\u001b[0;34m\u001b[0m\u001b[0;34m\u001b[0m\u001b[0m\n\u001b[0;32m--> 333\u001b[0;31m         \u001b[0mar\u001b[0m\u001b[0;34m.\u001b[0m\u001b[0msort\u001b[0m\u001b[0;34m(\u001b[0m\u001b[0;34m)\u001b[0m\u001b[0;34m\u001b[0m\u001b[0;34m\u001b[0m\u001b[0m\n\u001b[0m\u001b[1;32m    334\u001b[0m         \u001b[0maux\u001b[0m \u001b[0;34m=\u001b[0m \u001b[0mar\u001b[0m\u001b[0;34m\u001b[0m\u001b[0;34m\u001b[0m\u001b[0m\n\u001b[1;32m    335\u001b[0m     \u001b[0mmask\u001b[0m \u001b[0;34m=\u001b[0m \u001b[0mnp\u001b[0m\u001b[0;34m.\u001b[0m\u001b[0mempty\u001b[0m\u001b[0;34m(\u001b[0m\u001b[0maux\u001b[0m\u001b[0;34m.\u001b[0m\u001b[0mshape\u001b[0m\u001b[0;34m,\u001b[0m \u001b[0mdtype\u001b[0m\u001b[0;34m=\u001b[0m\u001b[0mnp\u001b[0m\u001b[0;34m.\u001b[0m\u001b[0mbool_\u001b[0m\u001b[0;34m)\u001b[0m\u001b[0;34m\u001b[0m\u001b[0;34m\u001b[0m\u001b[0m\n",
            "\u001b[0;31mTypeError\u001b[0m: '<' not supported between instances of 'float' and 'str'"
          ]
        }
      ]
    },
    {
      "cell_type": "code",
      "source": [
        "df_res.head()"
      ],
      "metadata": {
        "colab": {
          "base_uri": "https://localhost:8080/",
          "height": 206
        },
        "id": "6WwSwWknlHg4",
        "outputId": "aa11a4d4-736b-4745-a292-caa2f546a213"
      },
      "execution_count": null,
      "outputs": [
        {
          "output_type": "execute_result",
          "data": {
            "text/plain": [
              "    0 class\n",
              "12  s     s\n",
              "13  s     s\n",
              "14  s     s\n",
              "15  s     s\n",
              "16  s     s"
            ],
            "text/html": [
              "\n",
              "  <div id=\"df-7e752301-95e7-4274-9c9b-0cf6daff7e55\">\n",
              "    <div class=\"colab-df-container\">\n",
              "      <div>\n",
              "<style scoped>\n",
              "    .dataframe tbody tr th:only-of-type {\n",
              "        vertical-align: middle;\n",
              "    }\n",
              "\n",
              "    .dataframe tbody tr th {\n",
              "        vertical-align: top;\n",
              "    }\n",
              "\n",
              "    .dataframe thead th {\n",
              "        text-align: right;\n",
              "    }\n",
              "</style>\n",
              "<table border=\"1\" class=\"dataframe\">\n",
              "  <thead>\n",
              "    <tr style=\"text-align: right;\">\n",
              "      <th></th>\n",
              "      <th>0</th>\n",
              "      <th>class</th>\n",
              "    </tr>\n",
              "  </thead>\n",
              "  <tbody>\n",
              "    <tr>\n",
              "      <th>12</th>\n",
              "      <td>s</td>\n",
              "      <td>s</td>\n",
              "    </tr>\n",
              "    <tr>\n",
              "      <th>13</th>\n",
              "      <td>s</td>\n",
              "      <td>s</td>\n",
              "    </tr>\n",
              "    <tr>\n",
              "      <th>14</th>\n",
              "      <td>s</td>\n",
              "      <td>s</td>\n",
              "    </tr>\n",
              "    <tr>\n",
              "      <th>15</th>\n",
              "      <td>s</td>\n",
              "      <td>s</td>\n",
              "    </tr>\n",
              "    <tr>\n",
              "      <th>16</th>\n",
              "      <td>s</td>\n",
              "      <td>s</td>\n",
              "    </tr>\n",
              "  </tbody>\n",
              "</table>\n",
              "</div>\n",
              "      <button class=\"colab-df-convert\" onclick=\"convertToInteractive('df-7e752301-95e7-4274-9c9b-0cf6daff7e55')\"\n",
              "              title=\"Convert this dataframe to an interactive table.\"\n",
              "              style=\"display:none;\">\n",
              "        \n",
              "  <svg xmlns=\"http://www.w3.org/2000/svg\" height=\"24px\"viewBox=\"0 0 24 24\"\n",
              "       width=\"24px\">\n",
              "    <path d=\"M0 0h24v24H0V0z\" fill=\"none\"/>\n",
              "    <path d=\"M18.56 5.44l.94 2.06.94-2.06 2.06-.94-2.06-.94-.94-2.06-.94 2.06-2.06.94zm-11 1L8.5 8.5l.94-2.06 2.06-.94-2.06-.94L8.5 2.5l-.94 2.06-2.06.94zm10 10l.94 2.06.94-2.06 2.06-.94-2.06-.94-.94-2.06-.94 2.06-2.06.94z\"/><path d=\"M17.41 7.96l-1.37-1.37c-.4-.4-.92-.59-1.43-.59-.52 0-1.04.2-1.43.59L10.3 9.45l-7.72 7.72c-.78.78-.78 2.05 0 2.83L4 21.41c.39.39.9.59 1.41.59.51 0 1.02-.2 1.41-.59l7.78-7.78 2.81-2.81c.8-.78.8-2.07 0-2.86zM5.41 20L4 18.59l7.72-7.72 1.47 1.35L5.41 20z\"/>\n",
              "  </svg>\n",
              "      </button>\n",
              "      \n",
              "  <style>\n",
              "    .colab-df-container {\n",
              "      display:flex;\n",
              "      flex-wrap:wrap;\n",
              "      gap: 12px;\n",
              "    }\n",
              "\n",
              "    .colab-df-convert {\n",
              "      background-color: #E8F0FE;\n",
              "      border: none;\n",
              "      border-radius: 50%;\n",
              "      cursor: pointer;\n",
              "      display: none;\n",
              "      fill: #1967D2;\n",
              "      height: 32px;\n",
              "      padding: 0 0 0 0;\n",
              "      width: 32px;\n",
              "    }\n",
              "\n",
              "    .colab-df-convert:hover {\n",
              "      background-color: #E2EBFA;\n",
              "      box-shadow: 0px 1px 2px rgba(60, 64, 67, 0.3), 0px 1px 3px 1px rgba(60, 64, 67, 0.15);\n",
              "      fill: #174EA6;\n",
              "    }\n",
              "\n",
              "    [theme=dark] .colab-df-convert {\n",
              "      background-color: #3B4455;\n",
              "      fill: #D2E3FC;\n",
              "    }\n",
              "\n",
              "    [theme=dark] .colab-df-convert:hover {\n",
              "      background-color: #434B5C;\n",
              "      box-shadow: 0px 1px 3px 1px rgba(0, 0, 0, 0.15);\n",
              "      filter: drop-shadow(0px 1px 2px rgba(0, 0, 0, 0.3));\n",
              "      fill: #FFFFFF;\n",
              "    }\n",
              "  </style>\n",
              "\n",
              "      <script>\n",
              "        const buttonEl =\n",
              "          document.querySelector('#df-7e752301-95e7-4274-9c9b-0cf6daff7e55 button.colab-df-convert');\n",
              "        buttonEl.style.display =\n",
              "          google.colab.kernel.accessAllowed ? 'block' : 'none';\n",
              "\n",
              "        async function convertToInteractive(key) {\n",
              "          const element = document.querySelector('#df-7e752301-95e7-4274-9c9b-0cf6daff7e55');\n",
              "          const dataTable =\n",
              "            await google.colab.kernel.invokeFunction('convertToInteractive',\n",
              "                                                     [key], {});\n",
              "          if (!dataTable) return;\n",
              "\n",
              "          const docLinkHtml = 'Like what you see? Visit the ' +\n",
              "            '<a target=\"_blank\" href=https://colab.research.google.com/notebooks/data_table.ipynb>data table notebook</a>'\n",
              "            + ' to learn more about interactive tables.';\n",
              "          element.innerHTML = '';\n",
              "          dataTable['output_type'] = 'display_data';\n",
              "          await google.colab.output.renderOutput(dataTable, element);\n",
              "          const docLink = document.createElement('div');\n",
              "          docLink.innerHTML = docLinkHtml;\n",
              "          element.appendChild(docLink);\n",
              "        }\n",
              "      </script>\n",
              "    </div>\n",
              "  </div>\n",
              "  "
            ]
          },
          "metadata": {},
          "execution_count": 117
        }
      ]
    },
    {
      "cell_type": "code",
      "source": [
        "frame_length =  16384\n",
        "step_size = int(frame_length/2)\n",
        "mfcc = es.MFCC()\n",
        "spectrum = es.Spectrum()\n",
        "w = es.Windowing(type='hann')\n",
        "model = joblib.load('/content/drive/MyDrive/ColabNotebooks/svm_model_4.pkl')\n",
        "y_test = pd.DataFrame()\n",
        "ground_truth = pd.DataFrame()\n",
        "music_dir = '/content/drive/MyDrive/ColabNotebooks/muspeak/'\n",
        "for track in os.listdir(music_dir):\n",
        "  if track.startswith('track') and track.endswith('.mp3'):\n",
        "    x_test = pd.DataFrame()\n",
        "    audio_loader = es.MonoLoader(filename=(music_dir + track))\n",
        "    audio = audio_loader()\n",
        "    for frame in es.FrameGenerator(audio, frameSize = frame_length, hopSize = step_size, startFromZero=True):\n",
        "      mfcc_bands, mfcc_coeffs = mfcc(spectrum(w(frame)))\n",
        "      df = pd.DataFrame({\"mfcc2\":[mfcc_coeffs[1]],\"mfcc3\":[mfcc_coeffs[2]],\n",
        "                          \"mfcc4\":[mfcc_coeffs[3]],\"mfcc5\":[mfcc_coeffs[4]],\"mfcc6\":[mfcc_coeffs[5]],\n",
        "                          \"mfcc7\":[mfcc_coeffs[6]],\"mfcc8\":[mfcc_coeffs[7]],\"mfcc9\":[mfcc_coeffs[8]],\n",
        "                          \"mfcc10\":[mfcc_coeffs[9]],\"mfcc11\":[mfcc_coeffs[10]],\"mfcc12\":[mfcc_coeffs[11]],\n",
        "                          \"mfcc13\":[mfcc_coeffs[12]]})\n",
        "      x_test = x_test.append(df, ignore_index=True)\n",
        "    # predict\n",
        "    y_test_iter = model.predict(x_test)\n",
        "    # post process\n",
        "    pp_y_test_iter = pd.DataFrame(max_voting_filter(y_test_iter, 50))\n",
        "    # Load labeled data from csv (ground truth)\n",
        "    name, ext = os.path.splitext(track)\n",
        "    gt = pd.read_csv(music_dir + \"labeled_\" + name + \".csv\")\n",
        "    # append to global varialbes\n",
        "    if(pp_y_test_iter.shape[0]>gt.shape[0]):\n",
        "      ground_truth = ground_truth.append(gt)\n",
        "      y_test = y_test.append(pp_y_test_iter[0:gt.shape[0]])\n",
        "\n",
        "# Metrics from y_test and ground_truth"
      ],
      "metadata": {
        "id": "Storz3361wUG"
      },
      "execution_count": null,
      "outputs": []
    },
    {
      "cell_type": "code",
      "source": [
        "from sklearn.metrics import accuracy_score\n",
        "from sklearn.metrics import f1_score\n",
        "df_res = pd.concat([y_test, ground_truth[\"class\"]], axis=1)\n",
        "df_res = df_res[df_res['class'] != 'silence']\n",
        "df_res = df_res[df_res['class'] != 's&m']\n",
        "# accuracy_score(df_res['class'], df_res[0])\n",
        "f1_score(df_res['class'], df_res[0],average='weighted')\n",
        "# df_res.head()"
      ],
      "metadata": {
        "colab": {
          "base_uri": "https://localhost:8080/"
        },
        "id": "wps6JfYiGg0c",
        "outputId": "e24ad764-8025-42fd-ec17-4db73db63c72"
      },
      "execution_count": null,
      "outputs": [
        {
          "output_type": "execute_result",
          "data": {
            "text/plain": [
              "0.2863178146986922"
            ]
          },
          "metadata": {},
          "execution_count": 40
        }
      ]
    },
    {
      "cell_type": "code",
      "source": [
        "import matplotlib.pyplot as plt\n",
        "fig, (ax1, ax2) = plt.subplots(2, 1, figsize=(40, 10))\n",
        "ax1.plot(df_res['class'].to_numpy())\n",
        "ax2.plot(df_res[0].to_numpy())\n",
        "ax1.set_title('Predicted')\n",
        "plt.show()"
      ],
      "metadata": {
        "colab": {
          "base_uri": "https://localhost:8080/",
          "height": 380
        },
        "id": "PjZvQkPTLHXp",
        "outputId": "62ed49d6-865e-471d-8f75-53c9bbda3a1a"
      },
      "execution_count": null,
      "outputs": [
        {
          "output_type": "display_data",
          "data": {
            "text/plain": [
              "<Figure size 2880x720 with 2 Axes>"
            ],
            "image/png": "[encoded data removed]"
          },
          "metadata": {
            "needs_background": "light"
          }
        }
      ]
    }
  ]
}
