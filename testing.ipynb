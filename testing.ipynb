{
  "nbformat": 4,
  "nbformat_minor": 0,
  "metadata": {
    "colab": {
      "provenance": []
    },
    "kernelspec": {
      "name": "python3",
      "display_name": "Python 3"
    },
    "language_info": {
      "name": "python"
    },
    "accelerator": "GPU",
    "gpuClass": "standard"
  },
  "cells": [
    {
      "cell_type": "code",
      "execution_count": null,
      "metadata": {
        "id": "A0CLVB5uiTZO",
        "colab": {
          "base_uri": "https://localhost:8080/"
        },
        "outputId": "681f1854-9dcb-4a25-d3cb-d9851d0ecb75"
      },
      "outputs": [
        {
          "output_type": "stream",
          "name": "stdout",
          "text": [
            "Looking in indexes: https://pypi.org/simple, https://us-python.pkg.dev/colab-wheels/public/simple/\n",
            "Collecting essentia\n",
            "  Downloading essentia-2.1b6.dev858-cp38-cp38-manylinux_2_17_x86_64.manylinux2014_x86_64.whl (13.6 MB)\n",
            "\u001b[2K     \u001b[90m━━━━━━━━━━━━━━━━━━━━━━━━━━━━━━━━━━━━━━━━\u001b[0m \u001b[32m13.6/13.6 MB\u001b[0m \u001b[31m13.9 MB/s\u001b[0m eta \u001b[36m0:00:00\u001b[0m\n",
            "\u001b[?25hRequirement already satisfied: six in /usr/local/lib/python3.8/dist-packages (from essentia) (1.15.0)\n",
            "Requirement already satisfied: pyyaml in /usr/local/lib/python3.8/dist-packages (from essentia) (6.0)\n",
            "Requirement already satisfied: numpy>=1.8.2 in /usr/local/lib/python3.8/dist-packages (from essentia) (1.22.4)\n",
            "Installing collected packages: essentia\n",
            "Successfully installed essentia-2.1b6.dev858\n"
          ]
        }
      ],
      "source": [
        "!pip install essentia"
      ]
    },
    {
      "cell_type": "code",
      "source": [
        "import pandas as pd\n",
        "import numpy as np\n",
        "import essentia.standard as es\n",
        "import os"
      ],
      "metadata": {
        "id": "BpkYMcuYUYSY"
      },
      "execution_count": null,
      "outputs": []
    },
    {
      "cell_type": "code",
      "source": [
        "from google.colab import drive\n",
        "drive.mount('/content/drive')"
      ],
      "metadata": {
        "colab": {
          "base_uri": "https://localhost:8080/"
        },
        "id": "_ClxGlIzhzfA",
        "outputId": "dffe53da-355f-477b-8851-b11f39f73b7b"
      },
      "execution_count": null,
      "outputs": [
        {
          "output_type": "stream",
          "name": "stdout",
          "text": [
            "Mounted at /content/drive\n"
          ]
        }
      ]
    },
    {
      "cell_type": "markdown",
      "source": [
        "Label each frame for evaluation"
      ],
      "metadata": {
        "id": "l3P9mDtW8kA5"
      }
    },
    {
      "cell_type": "code",
      "source": [
        "sr = 44100\n",
        "frame_length =  16384\n",
        "step_size = int(frame_length/2)\n",
        "frame_time = step_size/sr\n",
        "\n",
        "directory = \"/content/drive/MyDrive/ColabNotebooks/muspeak/\"\n",
        "\n",
        "for filename in os.listdir(directory):\n",
        "    if filename.startswith('track') and filename.endswith('.csv'):\n",
        "      df_segments = pd.read_csv(directory + filename)\n",
        "      numOfSegments = len(df_segments.index) - 1\n",
        "      audio_lenght = df_segments['t1'][numOfSegments] + df_segments['t2'][numOfSegments]\n",
        "      df_classes = pd.DataFrame({\"t1\":[],\"t2\":[], \"class\":[]})\n",
        "      time = 0\n",
        "      while time < audio_lenght:\n",
        "        df_class = pd.DataFrame({\"t1\":[time],\"t2\":[time + frame_time],\"class\":['silence']})\n",
        "        time = time + frame_time\n",
        "        df_classes = df_classes.append(df_class, ignore_index=True)\n",
        "      for index, row in df_segments.iterrows():\n",
        "        numOfFrames = round(row['t2']/frame_time)\n",
        "        start_frame = round(row['t1']/frame_time)\n",
        "        for i in range(numOfFrames):\n",
        "          if df_classes.loc[(start_frame + i), 'class'] == 'silence':\n",
        "            df_classes.loc[(start_frame + i), 'class'] = row['class']\n",
        "          else:\n",
        "            df_classes.loc[start_frame + i, 'class'] = 's&m'\n",
        "      pd.DataFrame(df_classes).to_csv(directory + 'labeled_' + filename)"
      ],
      "metadata": {
        "id": "8lZojwnJXDsH"
      },
      "execution_count": null,
      "outputs": []
    },
    {
      "cell_type": "code",
      "source": [
        "sr = 44100\n",
        "frame_length =  16384/2\n",
        "\n",
        "seg = pd.read_csv('/content/drive/MyDrive/ColabNotebooks/scottish/scottish.csv')\n",
        "time = 0\n",
        "segment = 0\n",
        "length = seg['t2'].iloc[-1]\n",
        "df_classes = pd.DataFrame({\"t1\":[],\"t2\":[], \"class\":[]})\n",
        "while time < length:\n",
        "  if(time + (frame_length/sr) < length):\n",
        "    df_class = pd.DataFrame({\"t1\":[time],\"t2\":[time + (frame_length/sr)],\"class\":[seg['class'][segment]]})\n",
        "  else:\n",
        "    df_class = pd.DataFrame({\"t1\":[time],\"t2\":[length],\"class\":[seg['class'][segment]]})\n",
        "  time = time + frame_length/sr\n",
        "  if(time >= seg['t2'][segment]):\n",
        "    segment = segment + 1\n",
        "  df_classes = df_classes.append(df_class, ignore_index=True)\n",
        "\n",
        "pd.DataFrame(df_classes).to_csv('/content/drive/MyDrive/ColabNotebooks/scottish/scottish_labeled.csv')\n"
      ],
      "metadata": {
        "id": "gywi2OL_fBlH"
      },
      "execution_count": null,
      "outputs": []
    },
    {
      "cell_type": "markdown",
      "source": [
        "Read Dataset, divide each track into frames and obtain the different descriptors from each frame. Put them in a dataframe with their corresponding class."
      ],
      "metadata": {
        "id": "NX_INkOB7MM8"
      }
    },
    {
      "cell_type": "code",
      "source": [
        "step_size = int(frame_length/2)\n",
        "\n",
        "audio_loader = es.MonoLoader(filename='/content/drive/MyDrive/ColabNotebooks/muspeak/scottish.wav')\n",
        "audio_test = audio_loader()\n",
        "mfcc = es.MFCC()\n",
        "spectrum = es.Spectrum()\n",
        "w = es.Windowing(type='hann')\n",
        "dfm = pd.DataFrame()\n",
        "for frame in es.FrameGenerator(audio_test, frameSize = frame_length, hopSize = step_size, startFromZero=True):\n",
        "  mfcc_bands, mfcc_coeffs = mfcc(spectrum(w(frame)))\n",
        "  df2 = pd.DataFrame({\"mfcc1\":[mfcc_coeffs[0]],\"mfcc2\":[mfcc_coeffs[1]],\"mfcc3\":[mfcc_coeffs[2]],\n",
        "                      \"mfcc4\":[mfcc_coeffs[3]],\"mfcc5\":[mfcc_coeffs[4]],\"mfcc6\":[mfcc_coeffs[5]],\n",
        "                      \"mfcc7\":[mfcc_coeffs[6]],\"mfcc8\":[mfcc_coeffs[7]],\"mfcc9\":[mfcc_coeffs[8]],\n",
        "                      \"mfcc10\":[mfcc_coeffs[9]],\"mfcc11\":[mfcc_coeffs[10]],\"mfcc12\":[mfcc_coeffs[11]],\n",
        "                      \"mfcc13\":[mfcc_coeffs[12]]})\n",
        "  dfm = dfm.append(df2, ignore_index=True)"
      ],
      "metadata": {
        "id": "xM16ltNFZs4I"
      },
      "execution_count": null,
      "outputs": []
    },
    {
      "cell_type": "code",
      "source": [
        "import joblib\n",
        "model = joblib.load('/content/drive/MyDrive/ColabNotebooks/first_model_20000.pkl')\n",
        "model.predict(dfm)"
      ],
      "metadata": {
        "colab": {
          "base_uri": "https://localhost:8080/"
        },
        "id": "seYdbTyB8h90",
        "outputId": "721b691c-97b7-483b-e883-3ffa055a96fa"
      },
      "execution_count": null,
      "outputs": [
        {
          "output_type": "stream",
          "name": "stderr",
          "text": [
            "/usr/local/lib/python3.8/dist-packages/sklearn/base.py:299: UserWarning: Trying to unpickle estimator SVC from version 1.0.2 when using version 1.2.1. This might lead to breaking code or invalid results. Use at your own risk. For more info please refer to:\n",
            "https://scikit-learn.org/stable/model_persistence.html#security-maintainability-limitations\n",
            "  warnings.warn(\n"
          ]
        },
        {
          "output_type": "execute_result",
          "data": {
            "text/plain": [
              "array(['s', 's', 's', ..., 's', 's', 's'], dtype=object)"
            ]
          },
          "metadata": {},
          "execution_count": 6
        }
      ]
    },
    {
      "cell_type": "code",
      "source": [
        "y_test = model.predict(dfm)\n",
        "pd.DataFrame(y_test).to_csv('/content/drive/MyDrive/ColabNotebooks/y_test_20000.csv')"
      ],
      "metadata": {
        "id": "pRkhZyQfMZYA"
      },
      "execution_count": null,
      "outputs": []
    },
    {
      "cell_type": "code",
      "source": [
        "import math\n",
        "dfmi = pd.read_csv('/content/drive/MyDrive/ColabNotebooks/music_mfcc_ground_truth.csv')\n",
        "dfsi = pd.read_csv('/content/drive/MyDrive/ColabNotebooks/speech_mfcc_ground_truth.csv')\n",
        "np.random.seed(10)\n",
        "n_rm_music = dfmi.shape[0]-5000\n",
        "n_rm_speech = dfsi.shape[0]-5000\n",
        "i_rm_music = np.random.choice(dfmi.index, n_rm_music, replace=False)\n",
        "i_rm_speech = np.random.choice(dfsi.index, n_rm_speech, replace=False)\n",
        "dfmi = dfmi.drop(i_rm_music)\n",
        "dfsi = dfsi.drop(i_rm_speech)\n",
        "dfall = dfmi.head().append(dfsi.head())"
      ],
      "metadata": {
        "id": "UfmQ0DkF6qTo"
      },
      "execution_count": null,
      "outputs": []
    },
    {
      "cell_type": "code",
      "source": [
        "dfall = dfmi.append(dfsi)"
      ],
      "metadata": {
        "id": "ZO0kwlI8IROR"
      },
      "execution_count": null,
      "outputs": []
    },
    {
      "cell_type": "code",
      "source": [
        "X = dfall.drop('class',axis=1)\n",
        "y = dfall['class']"
      ],
      "metadata": {
        "id": "cr32oqCc9wEx"
      },
      "execution_count": null,
      "outputs": []
    },
    {
      "cell_type": "code",
      "source": [
        "from sklearn import svm\n",
        "clf = svm.SVC(kernel='linear')\n",
        "clf.fit(X,y)\n",
        "y_pred = clf.predict(X)\n",
        "y_pred"
      ],
      "metadata": {
        "id": "Zv_xZHbl-hRM"
      },
      "execution_count": null,
      "outputs": []
    },
    {
      "cell_type": "code",
      "source": [
        "import joblib\n",
        "joblib.dump(clf,'/content/drive/MyDrive/ColabNotebooks/first_model_5000.pkl',compress=9)"
      ],
      "metadata": {
        "colab": {
          "base_uri": "https://localhost:8080/"
        },
        "id": "XIyFlLcdMsgK",
        "outputId": "e8232c82-24c6-404f-f876-7e074364a903"
      },
      "execution_count": null,
      "outputs": [
        {
          "output_type": "execute_result",
          "data": {
            "text/plain": [
              "['/content/drive/MyDrive/ColabNotebooks/first_model_5000.pkl']"
            ]
          },
          "metadata": {},
          "execution_count": 20
        }
      ]
    },
    {
      "cell_type": "code",
      "source": [],
      "metadata": {
        "id": "VucIAv8uM-MX"
      },
      "execution_count": null,
      "outputs": []
    },
    {
      "cell_type": "markdown",
      "source": [
        "https://stackabuse.com/implementing-svm-and-kernel-svm-with-pythons-scikit-learn/\n",
        "https://github.com/ovh/ai-training-examples/blob/main/notebooks/audio/audio-classification/notebook-marine-sound-classification.ipynb\n",
        "https://essentia.upf.edu/streaming_extractor_music.html\n",
        "https://www.datacamp.com/tutorial/svm-classification-scikit-learn-python\n",
        "https://stackabuse.com/implementing-svm-and-kernel-svm-with-pythons-scikit-learn/\n",
        "https://pandas.pydata.org/docs/reference/api/pandas.DataFrame.drop.html\n"
      ],
      "metadata": {
        "id": "eR5SquXfKVe1"
      }
    }
  ]
}